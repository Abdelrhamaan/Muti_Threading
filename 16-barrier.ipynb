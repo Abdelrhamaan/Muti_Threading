{
 "cells": [
  {
   "cell_type": "code",
   "execution_count": 1,
   "metadata": {},
   "outputs": [
    {
     "name": "stdout",
     "output_type": "stream",
     "text": [
      "aboody is playing\n",
      "boody is playing\n",
      "omar is playing\n",
      "noor is playing\n",
      "abozaid is playing\n",
      "riko is playing\n"
     ]
    },
    {
     "name": "stdout",
     "output_type": "stream",
     "text": [
      "aboody is playingboody is playing\n",
      "omar is playing\n",
      "noor is playing\n",
      "\n",
      "abozaid is playing\n",
      "riko is playing\n",
      "boody is playingaboody is playing\n",
      "noor is playing\n",
      "riko is playing\n",
      "omar is playing\n",
      "abozaid is playing\n",
      "\n",
      "aboody is scored 0\n",
      "sending winning amount to aboody\n",
      "riko is scored 0\n",
      "sending winning amount to riko\n",
      "omar is scored 0\n",
      "sending winning amount to omar\n",
      "noor is scored 0\n",
      "sending winning amount to noor\n",
      "abozaid is scored 0\n",
      "sending winning amount to abozaid\n",
      "boody is scored 0\n",
      "sending winning amount to boody\n"
     ]
    }
   ],
   "source": [
    "import threading\n",
    "import time\n",
    "\n",
    "def playing(name):\n",
    "    score = 0\n",
    "    for _ in range (3):\n",
    "        print(f\"{name} is playing\")\n",
    "        time.sleep(3)\n",
    "        \n",
    "    print(f\"{name} is scored {score}\")\n",
    "    print(f\"sending winning amount to {name}\")\n",
    "    \n",
    "    \n",
    "my_threads = []    \n",
    "players_name = [\"aboody\", \"boody\", \"omar\", \"noor\", \"abozaid\", \"riko\"]\n",
    "for player in players_name:\n",
    "    thread = threading.Thread(target=playing, args=(player,))\n",
    "    my_threads.append(thread)\n",
    "    thread.start() # try to run it in python file "
   ]
  },
  {
   "cell_type": "code",
   "execution_count": null,
   "metadata": {},
   "outputs": [],
   "source": [
    "import threading\n",
    "import time\n",
    "\n",
    "players_name = [\"aboody\", \"boody\", \"omar\", \"noor\", \"abozaid\", \"riko\"]\n",
    "players_number = len(players_name)\n",
    "barrier = threading.Barrier(players_number)\n",
    "\n",
    "def playing(name):\n",
    "    score = 0\n",
    "    for _ in range (3):\n",
    "        print(f\"{name} is playing\")\n",
    "        time.sleep(3)\n",
    "    barrier.wait()\n",
    "    print(f\"{name} is scored {score}\")\n",
    "    print(f\"sending winning amount to {name}\")\n",
    "    \n",
    "    \n",
    "my_threads = []    \n",
    "for player in players_name:\n",
    "    thread = threading.Thread(target=playing, args=(player,))\n",
    "    my_threads.append(thread)\n",
    "    thread.start()"
   ]
  }
 ],
 "metadata": {
  "kernelspec": {
   "display_name": "Python 3",
   "language": "python",
   "name": "python3"
  },
  "language_info": {
   "codemirror_mode": {
    "name": "ipython",
    "version": 3
   },
   "file_extension": ".py",
   "mimetype": "text/x-python",
   "name": "python",
   "nbconvert_exporter": "python",
   "pygments_lexer": "ipython3",
   "version": "3.11.4"
  },
  "orig_nbformat": 4
 },
 "nbformat": 4,
 "nbformat_minor": 2
}
