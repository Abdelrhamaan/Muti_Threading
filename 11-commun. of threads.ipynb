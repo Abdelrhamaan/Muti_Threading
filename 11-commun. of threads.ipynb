{
 "cells": [
  {
   "attachments": {},
   "cell_type": "markdown",
   "metadata": {},
   "source": [
    "- event object\n",
    "- condition object \n",
    "- queue module"
   ]
  },
  {
   "attachments": {},
   "cell_type": "markdown",
   "metadata": {},
   "source": [
    "- by default flag = False\n",
    "- set()   ----- make Flag = True\n",
    "- wait()  ----- wait unit flag = True\n",
    "- reset() ----- return flag = False\n",
    "- is_set()----- if falg = True do some thing"
   ]
  },
  {
   "cell_type": "code",
   "execution_count": 1,
   "metadata": {},
   "outputs": [
    {
     "name": "stdout",
     "output_type": "stream",
     "text": [
      "game is already started\n",
      "your game finished\n"
     ]
    }
   ],
   "source": [
    "# gamin play\n",
    "\n",
    "import threading\n",
    "import time\n",
    "\n",
    "event = threading.Event()\n",
    "\n",
    "def start_game():\n",
    "    print(\"game is already started\")\n",
    "    time.sleep(0.01)\n",
    "    event.set()\n",
    "\n",
    "\n",
    "def end_game():\n",
    "    \n",
    "    while not event.is_set():\n",
    "        print(\"game didnt finishe yet\")\n",
    "    event.wait()\n",
    "    print(\"your game finished\")\n",
    "\n",
    "\n",
    "t1 = threading.Thread(target=start_game)\n",
    "t2 = threading.Thread(target=end_game)\n",
    "\n",
    "t1.start()\n",
    "t2.start()"
   ]
  },
  {
   "cell_type": "code",
   "execution_count": null,
   "metadata": {},
   "outputs": [],
   "source": [
    "event = threading.Event()\n",
    "\n",
    "def traffic_light():\n",
    "    while True:\n",
    "        print(\"light is green\") # true\n",
    "        event.set() # flag = true --- send msg (you can go)\n",
    "        time.sleep(5) \n",
    "        print('light is red stop!!') # print this and stop (you can go)\n",
    "        event.clear() # flag = false\n",
    "        time.sleep(5)\n",
    "        event.set() # flag = true\n",
    "        \n",
    "\n",
    "def msg():\n",
    "    event.wait()\n",
    "    while event.is_set():\n",
    "        print(\"you can go...\")\n",
    "        time.sleep(0.5)\n",
    "        event.wait()\n",
    "\n",
    "t1 = threading.Thread(target=traffic_light)\n",
    "t2 = threading.Thread(target=msg)\n",
    "\n",
    "t1.start()\n",
    "t2.start()"
   ]
  }
 ],
 "metadata": {
  "kernelspec": {
   "display_name": "Python 3",
   "language": "python",
   "name": "python3"
  },
  "language_info": {
   "codemirror_mode": {
    "name": "ipython",
    "version": 3
   },
   "file_extension": ".py",
   "mimetype": "text/x-python",
   "name": "python",
   "nbconvert_exporter": "python",
   "pygments_lexer": "ipython3",
   "version": "3.11.2"
  },
  "orig_nbformat": 4
 },
 "nbformat": 4,
 "nbformat_minor": 2
}
