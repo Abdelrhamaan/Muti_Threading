{
 "cells": [
  {
   "cell_type": "code",
   "execution_count": 10,
   "metadata": {},
   "outputs": [
    {
     "name": "stdout",
     "output_type": "stream",
     "text": [
      "<_MainThread(MainThread, started 140657203892224)>\n",
      "MainThread\n",
      "140657203892224\n",
      "True\n"
     ]
    }
   ],
   "source": [
    "import threading\n",
    "from threading import Thread\n",
    "import time\n",
    "# from time import time\n",
    "\n",
    "print(threading.current_thread())\n",
    "print(threading.current_thread().name)\n",
    "print(threading.current_thread().ident)\n",
    "print(threading.current_thread().is_alive())\n"
   ]
  },
  {
   "cell_type": "code",
   "execution_count": 18,
   "metadata": {},
   "outputs": [
    {
     "name": "stdout",
     "output_type": "stream",
     "text": [
      "Hello aboody\n",
      "Hello aboody\n",
      "Hello aboody\n",
      "Hello aboody\n",
      "0.0017027854919433594\n"
     ]
    }
   ],
   "source": [
    "def display(n,msg):\n",
    "    for i in range(n):\n",
    "        print (msg)\n",
    "\n",
    "start_time = time.time()        \n",
    "# t1 = threading.Thread(target=display,args=(4,\"Hello Aboody\"))\n",
    "t1 = threading.Thread(target=display,kwargs={'n':4,'msg':\"Hello aboody\"})\n",
    "t1.start()\n",
    "t1.join() #try to use it you will see the diff\n",
    "end_time = time.time()\n",
    "print(end_time-start_time)"
   ]
  },
  {
   "cell_type": "code",
   "execution_count": 56,
   "metadata": {},
   "outputs": [
    {
     "name": "stdout",
     "output_type": "stream",
     "text": [
      "t1 Thread details : <Thread(Thread-33 (display), started 140656857036352)>\n",
      "Hello aboody\n",
      "Hello aboody\n",
      "Hello aboody\n",
      "Hello aboody\n",
      "t1 Thread details : <_MainThread(MainThread, started 140657203892224)>\n",
      "hello nader\n",
      "hello nader\n",
      "hello nader\n",
      "hello nader\n",
      "0.0026476383209228516\n"
     ]
    }
   ],
   "source": [
    "\"\"\"\n",
    "the two func will be excuted parallel \n",
    "so every time you will see different out put\n",
    "except you made t1.join \n",
    "\"\"\"\n",
    "\n",
    "c\n",
    "# t1.join() #try to use it you will see the diff\n",
    "\n",
    "def display(n,msg):\n",
    "    print(f\"t1 Thread details : {threading.current_thread()}\")\n",
    "    for i in range(n):\n",
    "        print (msg)\n",
    "\n",
    "t1 = threading.Thread(target=display,kwargs={'n':4,'msg':\"Hello aboody\"})\n",
    "t1.start()\n",
    "\n",
    "display(4,\"hello nader\")     \n",
    "end_time = time.time()\n",
    "print(end_time-start_time)"
   ]
  },
  {
   "cell_type": "code",
   "execution_count": 51,
   "metadata": {},
   "outputs": [
    {
     "name": "stdout",
     "output_type": "stream",
     "text": [
      "hello aboody\n",
      "hello aboody\n",
      "hello aboody\n",
      "hello aboody\n",
      "hello nader\n",
      "hello nader\n",
      "hello nader\n",
      "hello nader\n",
      "0.0017161369323730469\n"
     ]
    }
   ],
   "source": [
    "start_time = time.time()   \n",
    "def display_one(n,msg):\n",
    "    for i in range(n):\n",
    "        print (msg)\n",
    "def display(n,msg):\n",
    "    for i in range(n):\n",
    "        print (msg)\n",
    "\n",
    "display_one(4,\"hello aboody\")     \n",
    "display(4,\"hello nader\")     \n",
    "end_time = time.time()\n",
    "print(end_time-start_time)"
   ]
  },
  {
   "cell_type": "code",
   "execution_count": 61,
   "metadata": {},
   "outputs": [
    {
     "name": "stdout",
     "output_type": "stream",
     "text": [
      "Hello Aboodywelcome !\n",
      "welcome !\n",
      "welcome !\n",
      "welcome !\n",
      "\n",
      "Hello Aboody\n",
      "Hello Aboody\n",
      "Hello Aboody\n"
     ]
    }
   ],
   "source": [
    "class Example:\n",
    "    def display(self,n,msg):\n",
    "        for i in range(n):\n",
    "            print (msg)\n",
    "            \n",
    "e = Example()\n",
    "t1 = threading.Thread(target=e.display,args=(4,\"Hello Aboody\"))\n",
    "t1.start()\n",
    "\n",
    "for i in range(4):\n",
    "    print(\"welcome !\")"
   ]
  },
  {
   "cell_type": "code",
   "execution_count": 62,
   "metadata": {},
   "outputs": [
    {
     "name": "stdout",
     "output_type": "stream",
     "text": [
      "Hello Aboody\n",
      "Hello Aboody\n",
      "Hello Aboody\n",
      "Hello Aboody\n",
      "welcome !\n",
      "welcome !\n",
      "welcome !\n",
      "welcome !\n"
     ]
    }
   ],
   "source": [
    "class Example:\n",
    "    @classmethod\n",
    "    def display(self,n,msg):\n",
    "        for i in range(n):\n",
    "            print (msg)\n",
    "            \n",
    "# e = Example()\n",
    "# replace e with class name\n",
    "t1 = threading.Thread(target=Example.display,args=(4,\"Hello Aboody\"))\n",
    "t1.start()\n",
    "\n",
    "for i in range(4):\n",
    "    print(\"welcome !\")"
   ]
  },
  {
   "cell_type": "code",
   "execution_count": 63,
   "metadata": {},
   "outputs": [
    {
     "name": "stdout",
     "output_type": "stream",
     "text": [
      "Hello Aboody\n",
      "Hello Aboody\n",
      "Hello Aboody\n",
      "Hello Aboody\n",
      "welcome !\n",
      "welcome !\n",
      "welcome !\n",
      "welcome !\n"
     ]
    }
   ],
   "source": [
    "class Example:\n",
    "    @staticmethod\n",
    "    # remove self\n",
    "    def display( n,msg):\n",
    "        for i in range(n):\n",
    "            print (msg)\n",
    "            \n",
    "# e = Example() \n",
    "t1 = threading.Thread(target=Example.display,args=(4,\"Hello Aboody\"))\n",
    "t1.start()\n",
    "\n",
    "for i in range(4):\n",
    "    print(\"welcome !\")"
   ]
  }
 ],
 "metadata": {
  "kernelspec": {
   "display_name": "Python 3",
   "language": "python",
   "name": "python3"
  },
  "language_info": {
   "codemirror_mode": {
    "name": "ipython",
    "version": 3
   },
   "file_extension": ".py",
   "mimetype": "text/x-python",
   "name": "python",
   "nbconvert_exporter": "python",
   "pygments_lexer": "ipython3",
   "version": "3.11.4"
  },
  "orig_nbformat": 4
 },
 "nbformat": 4,
 "nbformat_minor": 2
}
