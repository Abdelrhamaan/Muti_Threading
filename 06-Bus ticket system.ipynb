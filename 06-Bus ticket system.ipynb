{
 "cells": [
  {
   "cell_type": "markdown",
   "metadata": {},
   "source": [
    "- Race condititon bug due to parallel of threading"
   ]
  },
  {
   "cell_type": "code",
   "execution_count": 8,
   "metadata": {},
   "outputs": [
    {
     "name": "stdout",
     "output_type": "stream",
     "text": [
      "Available seats are 2Available seats are 2\n",
      "1 seat is reserved to nader\n",
      "\n",
      "1 seat is reserved to aboody\n"
     ]
    }
   ],
   "source": [
    "import threading \n",
    "\n",
    "class Bus():\n",
    "    def __init__(self,available_seats):\n",
    "        self.available_seats = available_seats\n",
    "    \n",
    "    def reserve(self,needed_seats):\n",
    "        print(f\"Available seats are {self.available_seats}\")\n",
    "        if self.available_seats >= needed_seats:\n",
    "            name = threading.current_thread().name\n",
    "            print(f\"{needed_seats} seat is reserved to {name}\")\n",
    "            self.available_seats -= needed_seats\n",
    "        else:\n",
    "            print(\"sorry is there is no available seats\")\n",
    "    \n",
    "    \n",
    "\n",
    "\n",
    "b1 = Bus(2)\n",
    "t1 = threading.Thread(target=b1.reserve,args=(1,),name=\"aboody\")    \n",
    "t2 = threading.Thread(target=b1.reserve,args=(1,),name=\"nader\")    \n",
    "t1.start()\n",
    "t2.start()\n",
    "# if u run it many times  Available seats are 2 while it must be one \n",
    "# due to the two threads are accessing memory(critical section in the same time)"
   ]
  }
 ],
 "metadata": {
  "kernelspec": {
   "display_name": "Python 3",
   "language": "python",
   "name": "python3"
  },
  "language_info": {
   "codemirror_mode": {
    "name": "ipython",
    "version": 3
   },
   "file_extension": ".py",
   "mimetype": "text/x-python",
   "name": "python",
   "nbconvert_exporter": "python",
   "pygments_lexer": "ipython3",
   "version": "3.11.4"
  },
  "orig_nbformat": 4
 },
 "nbformat": 4,
 "nbformat_minor": 2
}
