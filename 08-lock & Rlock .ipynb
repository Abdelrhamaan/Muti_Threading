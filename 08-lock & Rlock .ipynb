{
 "cells": [
  {
   "cell_type": "code",
   "execution_count": 2,
   "metadata": {},
   "outputs": [],
   "source": [
    "from threading import *\n",
    "import time"
   ]
  },
  {
   "cell_type": "code",
   "execution_count": 3,
   "metadata": {},
   "outputs": [
    {
     "name": "stdout",
     "output_type": "stream",
     "text": [
      "Task Hello world!: starting\n",
      "Task Hello world!: starting\n",
      "Task Hello world!: starting\n",
      "Task Hello world!: starting\n",
      "Task Hello world!: starting\n"
     ]
    }
   ],
   "source": [
    "mylock = Lock()\n",
    "\n",
    "def task(mylock,msg):\n",
    "    mylock.acquire()\n",
    "    for _ in range(5):\n",
    "        print('Task %s: starting' %(msg))\n",
    "    time.sleep(3)\n",
    "    mylock.release()\n",
    "\n",
    "\n",
    "t1 = Thread(target=task,args=(mylock,\"Hello world!\"))    \n",
    "t2 = Thread(target=task,args=(mylock,\"welcome...\"))    \n",
    "t1.start()    \n",
    "t2.start()    "
   ]
  },
  {
   "cell_type": "code",
   "execution_count": 4,
   "metadata": {},
   "outputs": [
    {
     "name": "stdout",
     "output_type": "stream",
     "text": [
      "Task Hello world!: starting\n",
      "Task Hello world!: starting\n",
      "Task Hello world!: starting\n",
      "Task Hello world!: starting\n",
      "Task Hello world!: starting\n"
     ]
    }
   ],
   "source": [
    "mylock = Lock()\n",
    "\n",
    "def task(mylock,msg):\n",
    "    mylock.acquire(timeout=1)# ---- try 0\n",
    "    for _ in range(5):\n",
    "        print('Task %s: starting' %(msg))\n",
    "    time.sleep(3)\n",
    "    mylock.release()\n",
    "\n",
    "\n",
    "t1 = Thread(target=task,args=(mylock,\"Hello world!\"))    \n",
    "t2 = Thread(target=task,args=(mylock,\"welcome...\"))    \n",
    "t1.start()    \n",
    "t2.start()  "
   ]
  },
  {
   "cell_type": "code",
   "execution_count": 5,
   "metadata": {},
   "outputs": [
    {
     "name": "stdout",
     "output_type": "stream",
     "text": [
      "Task Hello world!: starting\n",
      "Task Hello world!: starting\n",
      "Task Hello world!: starting\n",
      "Task Hello world!: starting\n",
      "Task Hello world!: starting\n",
      "Task welcome...: starting\n",
      "Task welcome...: starting\n",
      "Task welcome...: starting\n",
      "Task welcome...: starting\n",
      "Task welcome...: starting\n"
     ]
    }
   ],
   "source": [
    "mylock = Lock()\n",
    "\n",
    "def task(mylock,msg):\n",
    "    mylock.acquire(blocking=False)# ---- try 0\n",
    "    for _ in range(5):\n",
    "        print('Task %s: starting' %(msg))\n",
    "    time.sleep(3)\n",
    "    mylock.release()\n",
    "\n",
    "\n",
    "t1 = Thread(target=task,args=(mylock,\"Hello world!\"))    \n",
    "t2 = Thread(target=task,args=(mylock,\"welcome...\"))    \n",
    "t1.start()    \n",
    "t2.start()  "
   ]
  },
  {
   "cell_type": "code",
   "execution_count": 6,
   "metadata": {},
   "outputs": [
    {
     "name": "stdout",
     "output_type": "stream",
     "text": [
      "Available seats are 2\n",
      "2 seat is reserved to aboody\n",
      "Available seats are 0\n",
      "sorry is there is no available seats\n"
     ]
    }
   ],
   "source": [
    "import threading \n",
    "\n",
    "mylock = Lock()\n",
    "class Bus():\n",
    "    def __init__(self,available_seats,lock):\n",
    "        self.available_seats = available_seats\n",
    "        self.lock = lock\n",
    "    def reserve(self,needed_seats):\n",
    "        # self.lock.acquire() #you cannt do that multiple times so we will use R_lock\n",
    "        self.lock.acquire()\n",
    "        print(f\"Available seats are {self.available_seats}\")\n",
    "        if self.available_seats >= needed_seats:\n",
    "            name = threading.current_thread().name\n",
    "            print(f\"{needed_seats} seat is reserved to {name}\")\n",
    "            self.available_seats -= needed_seats\n",
    "        else:\n",
    "            print(\"sorry is there is no available seats\")\n",
    "        self.lock.release()\n",
    "        \n",
    "\n",
    "    \n",
    "\n",
    "\n",
    "b1 = Bus(2,mylock)\n",
    "t1 = threading.Thread(target=b1.reserve,args=(2,),name=\"aboody\")    \n",
    "t2 = threading.Thread(target=b1.reserve,args=(1,),name=\"nader\")    \n",
    "t1.start()\n",
    "t2.start()\n",
    "# if u run it many times  Available seats are 2 while it must be one \n",
    "# due to the two threads are accessing memory(critical section in the same time)"
   ]
  },
  {
   "cell_type": "code",
   "execution_count": 7,
   "metadata": {},
   "outputs": [
    {
     "name": "stdout",
     "output_type": "stream",
     "text": [
      "<locked _thread.RLock object owner=139646231115328 count=1 at 0x7f020b671840>\n",
      "<locked _thread.RLock object owner=139646231115328 count=2 at 0x7f020b671840>\n",
      "Available seats are 2\n",
      "2 seat is reserved to aboody\n",
      "<locked _thread.RLock object owner=139646231115328 count=1 at 0x7f020b671840>\n",
      "<locked _thread.RLock object owner=139646231115328 count=2 at 0x7f020b671840>\n",
      "Available seats are 0\n",
      "sorry is there is no available seats\n"
     ]
    }
   ],
   "source": [
    "import threading \n",
    "\n",
    "mylock = RLock()\n",
    "class Bus():\n",
    "    def __init__(self,available_seats,rlock):\n",
    "        self.available_seats = available_seats\n",
    "        self.rlock = rlock\n",
    "    def reserve(self,needed_seats):\n",
    "        self.rlock.acquire() #no you can make multiple acquire with R_lock\n",
    "        print(self.rlock)\n",
    "        self.rlock.acquire()\n",
    "        print(self.rlock)\n",
    "        print(f\"Available seats are {self.available_seats}\")\n",
    "        if self.available_seats >= needed_seats:\n",
    "            name = threading.current_thread().name\n",
    "            print(f\"{needed_seats} seat is reserved to {name}\")\n",
    "            self.available_seats -= needed_seats\n",
    "        else:\n",
    "            print(\"sorry is there is no available seats\")\n",
    "        self.rlock.release()\n",
    "        self.rlock.release() # try to comment this line \n",
    "        \n",
    "\n",
    "    \n",
    "\n",
    "\n",
    "b1 = Bus(2,mylock)\n",
    "t1 = threading.Thread(target=b1.reserve,args=(2,),name=\"aboody\")    \n",
    "t2 = threading.Thread(target=b1.reserve,args=(1,),name=\"nader\")    \n",
    "t1.start()\n",
    "t2.start()\n",
    "# if u run it many times  Available seats are 2 while it must be one \n",
    "# due to the two threads are accessing memory(critical section in the same time)"
   ]
  },
  {
   "cell_type": "markdown",
   "metadata": {},
   "source": [
    "- Why we need Rlock?!\n",
    "- we need it in large projects ...."
   ]
  },
  {
   "cell_type": "code",
   "execution_count": 16,
   "metadata": {},
   "outputs": [],
   "source": [
    "mylock = Lock()\n",
    "\n",
    "def first_line():\n",
    "    mylock.acquire()\n",
    "    print(\"first line\")\n",
    "    mylock.release()\n",
    "    \n",
    "    \n",
    "\n",
    "def second_line():\n",
    "    mylock.acquire()\n",
    "    print(\"second line\")\n",
    "    mylock.release()\n",
    "    \"\"\"\n",
    "    what if func main in line 1000 \n",
    "    and you forget that two functions are acquired\n",
    "    then your code will not run so we will use Rlock\n",
    "    \"\"\"\n",
    "# it will not working \n",
    "def main ():\n",
    "    mylock.acquire()\n",
    "    first_line()\n",
    "    second_line()\n",
    "    mylock.release()\n",
    "    \n",
    "t1 = Thread(target= main)\n",
    "t1.start()"
   ]
  },
  {
   "cell_type": "code",
   "execution_count": 17,
   "metadata": {},
   "outputs": [
    {
     "name": "stdout",
     "output_type": "stream",
     "text": [
      "first line\n",
      "second line\n"
     ]
    }
   ],
   "source": [
    "mylock = RLock()\n",
    "\n",
    "def first_line():\n",
    "    mylock.acquire()\n",
    "    print(\"first line\")\n",
    "    mylock.release()\n",
    "    \n",
    "    \n",
    "\n",
    "def second_line():\n",
    "    mylock.acquire()\n",
    "    print(\"second line\")\n",
    "    mylock.release()\n",
    "    \"\"\"\n",
    "    what if func main in line 1000 \n",
    "    and you forget that two functions are acquired\n",
    "    then your code will not run so we will use Rlock\n",
    "    \"\"\"\n",
    "# it will not working \n",
    "def main ():\n",
    "    mylock.acquire()\n",
    "    first_line()\n",
    "    second_line()\n",
    "    mylock.release()\n",
    "    \n",
    "t1 = Thread(target= main)\n",
    "t1.start()"
   ]
  }
 ],
 "metadata": {
  "kernelspec": {
   "display_name": "Python 3",
   "language": "python",
   "name": "python3"
  },
  "language_info": {
   "codemirror_mode": {
    "name": "ipython",
    "version": 3
   },
   "file_extension": ".py",
   "mimetype": "text/x-python",
   "name": "python",
   "nbconvert_exporter": "python",
   "pygments_lexer": "ipython3",
   "version": "3.11.4"
  },
  "orig_nbformat": 4
 },
 "nbformat": 4,
 "nbformat_minor": 2
}
