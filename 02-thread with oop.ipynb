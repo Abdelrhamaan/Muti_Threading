{
 "cells": [
  {
   "cell_type": "code",
   "execution_count": 2,
   "metadata": {},
   "outputs": [],
   "source": [
    "from time import sleep\n",
    "from threading import Thread"
   ]
  },
  {
   "cell_type": "code",
   "execution_count": 1,
   "metadata": {},
   "outputs": [
    {
     "name": "stdout",
     "output_type": "stream",
     "text": [
      "checking copyrights\n",
      "checking copyrights\n",
      "checking copyrights\n",
      "checking copyrights\n"
     ]
    }
   ],
   "source": [
    "videos = ['OOP','Constructor','Destructor','Filehandling']\n",
    "\n",
    "def upload(vid): # consider t1 thread\n",
    "    print(f\"{vid} started uploaing\")\n",
    "    sleep(3)\n",
    "    print(\"uploaded..\")\n",
    "   \n",
    "for i in range(4): # consider main thread\n",
    "    sleep(0.5)\n",
    "    print(\"checking copyrights\")\n",
    "    "
   ]
  },
  {
   "cell_type": "code",
   "execution_count": 3,
   "metadata": {},
   "outputs": [
    {
     "name": "stdout",
     "output_type": "stream",
     "text": [
      "OOP started uploaing\n",
      "checking copyrights\n",
      "checking copyrights\n",
      "checking copyrights\n",
      "checking copyrights\n"
     ]
    },
    {
     "name": "stdout",
     "output_type": "stream",
     "text": [
      "OOPuploaded..\n",
      "Constructor started uploaing\n",
      "Constructoruploaded..\n",
      "Destructor started uploaing\n",
      "Destructoruploaded..\n",
      "Filehandling started uploaing\n",
      "Filehandlinguploaded..\n"
     ]
    }
   ],
   "source": [
    "videos = ['OOP','Constructor','Destructor','Filehandling']\n",
    "\n",
    "class MyClass (Thread): # inherit from thread class\n",
    "    def run(self):\n",
    "        for vid in videos: \n",
    "            print(f\"{vid} started uploading\")\n",
    "            sleep(3)\n",
    "            print(f\"{vid}uploaded..\")\n",
    "            \n",
    "t1 = MyClass()  # consider t1 thread\n",
    "t1.start()\n",
    "\n",
    "for i in range(4): # consider main thread\n",
    "    sleep(0.5)\n",
    "    print(\"checking copyrights\")\n",
    "            \n"
   ]
  },
  {
   "cell_type": "code",
   "execution_count": 7,
   "metadata": {},
   "outputs": [
    {
     "name": "stdout",
     "output_type": "stream",
     "text": [
      "constructor called\n",
      "OOP started uploading\n",
      "checking copyrights\n",
      "OOPuploaded..\n",
      "Constructor started uploading\n",
      "checking copyrights\n",
      "checking copyrights\n",
      "Constructoruploaded..\n",
      "Destructor started uploading\n",
      "checking copyrights\n"
     ]
    },
    {
     "name": "stdout",
     "output_type": "stream",
     "text": [
      "Destructoruploaded..\n",
      "Filehandling started uploading\n",
      "Filehandlinguploaded..\n"
     ]
    }
   ],
   "source": [
    "videos = ['OOP','Constructor','Destructor','Filehandling']\n",
    "\n",
    "class MyClass (Thread): # inherit from thread class\n",
    "    def __init__(self):\n",
    "        print(\"constructor called\")\n",
    "        # Thread.__init__(self) # create instance from base class\n",
    "        super().__init__()\n",
    "    def run(self): # override run method from class Thread\n",
    "        for vid in videos: \n",
    "            print(f\"{vid} started uploading\")\n",
    "            sleep(1)\n",
    "            print(f\"{vid}uploaded..\")\n",
    "            \n",
    "t1 = MyClass()  # consider t1 thread\n",
    "t1.start()\n",
    "\n",
    "for i in range(4): # consider main thread\n",
    "    sleep(0.5)\n",
    "    print(\"checking copyrights\")"
   ]
  },
  {
   "cell_type": "code",
   "execution_count": 10,
   "metadata": {},
   "outputs": [
    {
     "name": "stdout",
     "output_type": "stream",
     "text": [
      "constructor called\n",
      "not suitable for kids\n",
      "OOP started uploading\n",
      "checking copyrights\n",
      "OOPuploaded..checking copyrights\n",
      "\n",
      "Constructor started uploading\n",
      "checking copyrights\n",
      "Constructoruploaded..\n",
      "Destructor started uploading\n",
      "checking copyrights\n"
     ]
    },
    {
     "name": "stdout",
     "output_type": "stream",
     "text": [
      "Destructoruploaded..\n",
      "Filehandling started uploading\n",
      "Filehandlinguploaded..\n"
     ]
    }
   ],
   "source": [
    "videos = ['OOP','Constructor','Destructor','Filehandling']\n",
    "\n",
    "class MyClass (Thread): # inherit from thread class\n",
    "    def __init__(self,val):\n",
    "        print(\"constructor called\")\n",
    "        self.kid = val\n",
    "        # Thread.__init__(self) # create instance from base class\n",
    "        super().__init__()\n",
    "        \n",
    "    def run(self):\n",
    "        if self.kid:\n",
    "            print(\"suitable for kids\")\n",
    "        else :\n",
    "            print(\"not suitable for kids\")\n",
    "        for vid in videos: \n",
    "            print(f\"{vid} started uploading\")\n",
    "            sleep(1)\n",
    "            print(f\"{vid}uploaded..\")\n",
    "            \n",
    "t1 = MyClass(False)  # consider t1 thread\n",
    "t1.start()\n",
    "\n",
    "for i in range(4): # consider main thread\n",
    "    sleep(0.5)\n",
    "    print(\"checking copyrights\")"
   ]
  },
  {
   "cell_type": "code",
   "execution_count": 11,
   "metadata": {},
   "outputs": [
    {
     "name": "stdout",
     "output_type": "stream",
     "text": [
      "constructor called\n",
      "video compressed\n",
      "not suitable for kids\n",
      "OOP started uploading\n",
      "checking copyrights\n",
      "OOPuploaded..\n",
      "Constructor started uploading\n",
      "checking copyrights\n",
      "checking copyrights\n",
      "Constructoruploaded..\n",
      "Destructor started uploading\n",
      "checking copyrights\n"
     ]
    },
    {
     "name": "stdout",
     "output_type": "stream",
     "text": [
      "Destructoruploaded..\n",
      "Filehandling started uploading\n",
      "Filehandlinguploaded..\n"
     ]
    }
   ],
   "source": [
    "videos = ['OOP','Constructor','Destructor','Filehandling']\n",
    "\n",
    "class MyClass (Thread): # inherit from thread class\n",
    "    def __init__(self,val):\n",
    "        print(\"constructor called\")\n",
    "        self.kid = val\n",
    "        # Thread.__init__(self) # create instance from base class\n",
    "        super().__init__()\n",
    "        \n",
    "    def compressed(self):\n",
    "        print(\"video compressed\")\n",
    "    def run(self):\n",
    "        self.compressed()\n",
    "        if self.kid:\n",
    "            print(\"suitable for kids\")\n",
    "        else :\n",
    "            print(\"not suitable for kids\")\n",
    "        for vid in videos: \n",
    "            print(f\"{vid} started uploading\")\n",
    "            sleep(1)\n",
    "            print(f\"{vid}uploaded..\")\n",
    "            \n",
    "t1 = MyClass(False)  # consider t1 thread\n",
    "t1.start()\n",
    "\n",
    "for i in range(4): # consider main thread\n",
    "    sleep(0.5)\n",
    "    print(\"checking copyrights\")"
   ]
  },
  {
   "cell_type": "code",
   "execution_count": 12,
   "metadata": {},
   "outputs": [
    {
     "name": "stdout",
     "output_type": "stream",
     "text": [
      "constructor called\n",
      "video compressed\n",
      "not suitable for kids\n",
      "OOP started uploading\n"
     ]
    },
    {
     "ename": "AttributeError",
     "evalue": "'MyClass' object has no attribute 'temp'",
     "output_type": "error",
     "traceback": [
      "\u001b[0;31m---------------------------------------------------------------------------\u001b[0m",
      "\u001b[0;31mAttributeError\u001b[0m                            Traceback (most recent call last)",
      "Cell \u001b[0;32mIn[12], line 29\u001b[0m\n\u001b[1;32m     27\u001b[0m t1 \u001b[39m=\u001b[39m MyClass(\u001b[39mFalse\u001b[39;00m)  \u001b[39m# consider t1 thread\u001b[39;00m\n\u001b[1;32m     28\u001b[0m t1\u001b[39m.\u001b[39mstart()\n\u001b[0;32m---> 29\u001b[0m \u001b[39mprint\u001b[39m(t1\u001b[39m.\u001b[39;49mtemp)\n\u001b[1;32m     31\u001b[0m \u001b[39mfor\u001b[39;00m i \u001b[39min\u001b[39;00m \u001b[39mrange\u001b[39m(\u001b[39m4\u001b[39m): \u001b[39m# consider main thread\u001b[39;00m\n\u001b[1;32m     32\u001b[0m     sleep(\u001b[39m0.5\u001b[39m)\n",
      "\u001b[0;31mAttributeError\u001b[0m: 'MyClass' object has no attribute 'temp'"
     ]
    },
    {
     "name": "stdout",
     "output_type": "stream",
     "text": [
      "OOPuploaded..\n",
      "Constructor started uploading\n",
      "Constructoruploaded..\n",
      "Destructor started uploading\n",
      "Destructoruploaded..\n",
      "Filehandling started uploading\n",
      "Filehandlinguploaded..\n"
     ]
    }
   ],
   "source": [
    "videos = ['OOP','Constructor','Destructor','Filehandling']\n",
    "\n",
    "class MyClass (Thread): # inherit from thread class\n",
    "    def __init__(self,val):\n",
    "        print(\"constructor called\")\n",
    "        self.kid = val\n",
    "        # Thread.__init__(self) # create instance from base class\n",
    "        super().__init__()\n",
    "        \n",
    "    def compressed(self):\n",
    "        print(\"video compressed\")\n",
    "        \n",
    "    def run(self):\n",
    "        a = 10\n",
    "        b = 20\n",
    "        self.compressed()\n",
    "        if self.kid:\n",
    "            print(\"suitable for kids\")\n",
    "        else :\n",
    "            print(\"not suitable for kids\")\n",
    "        for vid in videos: \n",
    "            print(f\"{vid} started uploading\")\n",
    "            sleep(1)\n",
    "            print(f\"{vid}uploaded..\")\n",
    "            \n",
    "        self.temp = a + b\n",
    "            \n",
    "t1 = MyClass(False)  # consider t1 thread\n",
    "t1.start()\n",
    "print(t1.temp)\n",
    "\n",
    "for i in range(4): # consider main thread\n",
    "    sleep(0.5)\n",
    "    print(\"checking copyrights\")\n",
    "    "
   ]
  },
  {
   "cell_type": "markdown",
   "metadata": {},
   "source": [
    "The error 'MyClass' object has no attribute 'temp' occurs when you try to access the temp attribute of the MyClass object (t1) before the run() method of the thread has finished executing.\n",
    "\n",
    "In your code, you call t1.start() immediately after creating the MyClass object t1. This starts the execution of the run() method in a separate thread. However, the run() method takes some time to complete since it contains a loop with a delay of 1 second (sleep(1)) for each video in the videos list.\n",
    "\n",
    "When you directly print t1.temp immediately after starting the thread using t1.start(), the run() method hasn't finished executing yet. As a result, the temp attribute has not been created or assigned a value, leading to the error."
   ]
  },
  {
   "cell_type": "code",
   "execution_count": 13,
   "metadata": {},
   "outputs": [
    {
     "name": "stdout",
     "output_type": "stream",
     "text": [
      "constructor called\n",
      "video compressed\n",
      "not suitable for kids\n",
      "OOP started uploading\n",
      "OOPuploaded..\n",
      "Constructor started uploading\n",
      "Constructoruploaded..\n",
      "Destructor started uploading\n",
      "Destructoruploaded..\n",
      "Filehandling started uploading\n",
      "Filehandlinguploaded..\n",
      "30\n",
      "checking copyrights\n",
      "checking copyrights\n",
      "checking copyrights\n",
      "checking copyrights\n"
     ]
    }
   ],
   "source": [
    "videos = ['OOP','Constructor','Destructor','Filehandling']\n",
    "\n",
    "class MyClass (Thread): # inherit from thread class\n",
    "    def __init__(self,val):\n",
    "        print(\"constructor called\")\n",
    "        self.kid = val\n",
    "        # Thread.__init__(self) # create instance from base class\n",
    "        super().__init__()\n",
    "        \n",
    "    def compressed(self):\n",
    "        print(\"video compressed\")\n",
    "        \n",
    "    def run(self):\n",
    "        a = 10\n",
    "        b = 20\n",
    "        self.compressed()\n",
    "        if self.kid:\n",
    "            print(\"suitable for kids\")\n",
    "        else :\n",
    "            print(\"not suitable for kids\")\n",
    "        for vid in videos: \n",
    "            print(f\"{vid} started uploading\")\n",
    "            sleep(1)\n",
    "            print(f\"{vid}uploaded..\")\n",
    "            \n",
    "        self.temp = a + b\n",
    "            \n",
    "t1 = MyClass(False)  # consider t1 thread\n",
    "t1.start()\n",
    "sleep(10)\n",
    "print(t1.temp)\n",
    "\n",
    "for i in range(4): # consider main thread\n",
    "    sleep(0.5)\n",
    "    print(\"checking copyrights\")\n"
   ]
  }
 ],
 "metadata": {
  "kernelspec": {
   "display_name": "Python 3",
   "language": "python",
   "name": "python3"
  },
  "language_info": {
   "codemirror_mode": {
    "name": "ipython",
    "version": 3
   },
   "file_extension": ".py",
   "mimetype": "text/x-python",
   "name": "python",
   "nbconvert_exporter": "python",
   "pygments_lexer": "ipython3",
   "version": "3.11.4"
  },
  "orig_nbformat": 4
 },
 "nbformat": 4,
 "nbformat_minor": 2
}
