{
 "cells": [
  {
   "cell_type": "code",
   "execution_count": 1,
   "metadata": {},
   "outputs": [],
   "source": [
    "import threading\n",
    "import time"
   ]
  },
  {
   "cell_type": "code",
   "execution_count": 2,
   "metadata": {},
   "outputs": [
    {
     "name": "stdout",
     "output_type": "stream",
     "text": [
      "Check main thread is deamon or not ----> False\n"
     ]
    }
   ],
   "source": [
    "obj = threading.current_thread()\n",
    "print(\"Check main thread is deamon or not ---->\",obj.daemon)"
   ]
  },
  {
   "cell_type": "code",
   "execution_count": 3,
   "metadata": {},
   "outputs": [
    {
     "name": "stdout",
     "output_type": "stream",
     "text": [
      "check t1 nature is : False\n",
      "Thread-5 (display)\n",
      "MainThread\n",
      "[<_MainThread(MainThread, started 11316)>, <Thread(IOPub, started daemon 5600)>, <Heartbeat(Heartbeat, started daemon 9900)>, <ControlThread(Control, started daemon 9104)>, <HistorySavingThread(IPythonHistorySavingThread, started 5548)>, <ParentPollerWindows(Thread-4, started daemon 5588)>]\n"
     ]
    }
   ],
   "source": [
    "def display():\n",
    "    print(\"this is display function\")\n",
    "    \n",
    "t1 = threading.Thread(target=display)\n",
    "print(\"check t1 nature is :\",t1.daemon)\n",
    "print(t1.name)\n",
    "print(threading.current_thread().name)\n",
    "print(threading.enumerate())"
   ]
  },
  {
   "cell_type": "code",
   "execution_count": 4,
   "metadata": {},
   "outputs": [
    {
     "name": "stdout",
     "output_type": "stream",
     "text": [
      "check t1 nature is : True\n"
     ]
    }
   ],
   "source": [
    "def display():\n",
    "    print(\"this is display function\")\n",
    "    \n",
    "t1 = threading.Thread(target=display)\n",
    "t1.daemon = True\n",
    "print(\"check t1 nature is :\",t1.daemon)"
   ]
  },
  {
   "cell_type": "code",
   "execution_count": 5,
   "metadata": {},
   "outputs": [
    {
     "name": "stdout",
     "output_type": "stream",
     "text": [
      "check t1 nature is : False\n",
      "this is display function\n"
     ]
    },
    {
     "ename": "RuntimeError",
     "evalue": "cannot set daemon status of active thread",
     "output_type": "error",
     "traceback": [
      "\u001b[1;31m---------------------------------------------------------------------------\u001b[0m",
      "\u001b[1;31mRuntimeError\u001b[0m                              Traceback (most recent call last)",
      "Cell \u001b[1;32mIn[5], line 7\u001b[0m\n\u001b[0;32m      5\u001b[0m \u001b[39mprint\u001b[39m(\u001b[39m\"\u001b[39m\u001b[39mcheck t1 nature is :\u001b[39m\u001b[39m\"\u001b[39m,t1\u001b[39m.\u001b[39mdaemon)\n\u001b[0;32m      6\u001b[0m t1\u001b[39m.\u001b[39mstart()\n\u001b[1;32m----> 7\u001b[0m t1\u001b[39m.\u001b[39;49mdaemon \u001b[39m=\u001b[39m \u001b[39mTrue\u001b[39;00m\n",
      "File \u001b[1;32mc:\\Users\\Techno Shield\\AppData\\Local\\Programs\\Python\\Python311\\Lib\\threading.py:1219\u001b[0m, in \u001b[0;36mThread.daemon\u001b[1;34m(self, daemonic)\u001b[0m\n\u001b[0;32m   1217\u001b[0m     \u001b[39mraise\u001b[39;00m \u001b[39mRuntimeError\u001b[39;00m(\u001b[39m\"\u001b[39m\u001b[39mThread.__init__() not called\u001b[39m\u001b[39m\"\u001b[39m)\n\u001b[0;32m   1218\u001b[0m \u001b[39mif\u001b[39;00m \u001b[39mself\u001b[39m\u001b[39m.\u001b[39m_started\u001b[39m.\u001b[39mis_set():\n\u001b[1;32m-> 1219\u001b[0m     \u001b[39mraise\u001b[39;00m \u001b[39mRuntimeError\u001b[39;00m(\u001b[39m\"\u001b[39m\u001b[39mcannot set daemon status of active thread\u001b[39m\u001b[39m\"\u001b[39m)\n\u001b[0;32m   1220\u001b[0m \u001b[39mself\u001b[39m\u001b[39m.\u001b[39m_daemonic \u001b[39m=\u001b[39m daemonic\n",
      "\u001b[1;31mRuntimeError\u001b[0m: cannot set daemon status of active thread"
     ]
    }
   ],
   "source": [
    "def display():\n",
    "    print(\"this is display function\")\n",
    "    \n",
    "t1 = threading.Thread(target=display)\n",
    "print(\"check t1 nature is :\",t1.daemon)\n",
    "t1.start()\n",
    "t1.daemon = True"
   ]
  },
  {
   "cell_type": "code",
   "execution_count": null,
   "metadata": {},
   "outputs": [
    {
     "name": "stdout",
     "output_type": "stream",
     "text": [
      "check t1 nature is : True\n",
      "this is display function\n"
     ]
    },
    {
     "name": "stderr",
     "output_type": "stream",
     "text": [
      "C:\\Users\\Techno Shield\\AppData\\Local\\Temp\\ipykernel_13120\\1527604808.py:5: DeprecationWarning: setDaemon() is deprecated, set the daemon attribute instead\n",
      "  t1.setDaemon(True)\n"
     ]
    }
   ],
   "source": [
    "def display():\n",
    "    print(\"this is display function\")\n",
    "    \n",
    "t1 = threading.Thread(target=display)\n",
    "t1.setDaemon(True)\n",
    "print(\"check t1 nature is :\",t1.daemon)\n",
    "t1.start()"
   ]
  },
  {
   "cell_type": "code",
   "execution_count": null,
   "metadata": {},
   "outputs": [
    {
     "name": "stdout",
     "output_type": "stream",
     "text": [
      "t1 before  False\n",
      "deamon nature of  True\n",
      "t1 after  True\n"
     ]
    }
   ],
   "source": [
    "def display():\n",
    "    # print(\"t1 before \",t1.daemon)\n",
    "    t2 = threading.Thread(target = show)\n",
    "    print(\"deamon nature of \",t2.daemon)\n",
    "    print(\"t1 after \",t1.daemon)\n",
    "    \n",
    "def show():\n",
    "    print(\"show func \")\n",
    "t1 = threading.Thread(target=display)\n",
    "print(\"t1 before \",t1.daemon)\n",
    "t1.daemon = True\n",
    "t1.start()\n",
    "# print(\"check t1 nature is :\",t1.daemon)"
   ]
  },
  {
   "cell_type": "code",
   "execution_count": 6,
   "metadata": {},
   "outputs": [
    {
     "name": "stdout",
     "output_type": "stream",
     "text": [
      "teaching session 0\n",
      "teaching session 1\n",
      "teaching session 2\n",
      "teaching session 3\n",
      "teaching session 4\n",
      "teaching session 5\n",
      "teaching session 6\n",
      "teaching session 7\n",
      "teaching session 8\n",
      "teaching session 9\n",
      "Exam Time !!!\n",
      "Exam is over !!!!\n"
     ]
    }
   ],
   "source": [
    "def display():\n",
    "    for i in range(10):\n",
    "        print(\"teaching session\", i)\n",
    "        time.sleep(0.7)\n",
    "    \n",
    "t1 = threading.Thread(target = display)\n",
    "t1.start()\n",
    "t1.join()\n",
    "\n",
    "print(\"Exam Time !!!\")\n",
    "print(\"Exam is over !!!!\")"
   ]
  },
  {
   "cell_type": "code",
   "execution_count": 8,
   "metadata": {},
   "outputs": [
    {
     "name": "stdout",
     "output_type": "stream",
     "text": [
      "teaching sessionExam Time !!!\n",
      "Exam is over !!!!\n",
      " 0\n"
     ]
    },
    {
     "name": "stdout",
     "output_type": "stream",
     "text": [
      "teaching session 1\n",
      "teaching session 2\n",
      "teaching session 3\n",
      "teaching session 4\n",
      "teaching session 5\n",
      "teaching session 6\n",
      "teaching session 7\n",
      "teaching session 8\n",
      "teaching session 9\n"
     ]
    }
   ],
   "source": [
    "def display():\n",
    "    for i in range(10):\n",
    "        print(\"teaching session\", i)\n",
    "        time.sleep(0.7)\n",
    "    \n",
    "t1 = threading.Thread(target = display)\n",
    "t1.daemon = True \n",
    "t1.start()\n",
    "# t1.join()\n",
    "\n",
    "print(\"Exam Time !!!\")\n",
    "print(\"Exam is over !!!!\")"
   ]
  }
 ],
 "metadata": {
  "kernelspec": {
   "display_name": "Python 3",
   "language": "python",
   "name": "python3"
  },
  "language_info": {
   "codemirror_mode": {
    "name": "ipython",
    "version": 3
   },
   "file_extension": ".py",
   "mimetype": "text/x-python",
   "name": "python",
   "nbconvert_exporter": "python",
   "pygments_lexer": "ipython3",
   "version": "3.11.2"
  },
  "orig_nbformat": 4
 },
 "nbformat": 4,
 "nbformat_minor": 2
}
