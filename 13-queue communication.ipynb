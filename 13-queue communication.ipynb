{
 "cells": [
  {
   "cell_type": "code",
   "execution_count": 4,
   "metadata": {},
   "outputs": [
    {
     "name": "stdout",
     "output_type": "stream",
     "text": [
      "Producer started\n",
      "consumer started\n"
     ]
    },
    {
     "name": "stdout",
     "output_type": "stream",
     "text": [
      "Enter student marks?  "
     ]
    }
   ],
   "source": [
    "# it doesnt work right in jypter so we made python file\n",
    "\n",
    "import threading \n",
    "import queue\n",
    "\n",
    "my_queue = queue.Queue()\n",
    "\n",
    "def producer(my_queue):\n",
    "    print(\"Producer started\")\n",
    "    num = int(input(\"Enter number of students? \"))\n",
    "    for _ in range(num):\n",
    "        mark = float(input(\"Enter student marks?  \"))\n",
    "        my_queue.put(mark)\n",
    "    my_queue.put(None)\n",
    "    print(\"Producer ended\")\n",
    "    \n",
    "\n",
    "\n",
    "def consumer(my_queue):\n",
    "    print(\"consumer started\")\n",
    "    while True:\n",
    "        item = my_queue.get()\n",
    "        if item == None:\n",
    "            break\n",
    "        print(f\"mark is {item}\")\n",
    "    print(\"consumer ended\")\n",
    "\n",
    "\n",
    "t1 = threading.Thread(target = producer, args =(my_queue,))\n",
    "t2 = threading.Thread(target = consumer, args =(my_queue,))\n",
    "\n",
    "t1.start()\n",
    "t2.start()"
   ]
  }
 ],
 "metadata": {
  "kernelspec": {
   "display_name": "Python 3",
   "language": "python",
   "name": "python3"
  },
  "language_info": {
   "codemirror_mode": {
    "name": "ipython",
    "version": 3
   },
   "file_extension": ".py",
   "mimetype": "text/x-python",
   "name": "python",
   "nbconvert_exporter": "python",
   "pygments_lexer": "ipython3",
   "version": "3.11.2"
  },
  "orig_nbformat": 4
 },
 "nbformat": 4,
 "nbformat_minor": 2
}
