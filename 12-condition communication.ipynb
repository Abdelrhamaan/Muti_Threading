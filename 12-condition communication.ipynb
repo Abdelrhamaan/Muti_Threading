{
 "cells": [
  {
   "cell_type": "code",
   "execution_count": 4,
   "metadata": {},
   "outputs": [],
   "source": [
    "import threading\n",
    "import math\n",
    "\n",
    "con = threading.Condition()\n",
    "\n",
    "def temperature():\n",
    "    con.acquire()\n",
    "    days = ['saturday', 'sunday', 'monday', 'tusday', 'wensday', 'thursday', 'friday']\n",
    "    with open('temp.txt','w') as file:\n",
    "        for day in days:\n",
    "            temp = input(f'Enter Temperature of {day}')\n",
    "            file.write(temp+'\\n')\n",
    "    con.notify_all()\n",
    "    con.release()\n",
    "\n",
    "def max_temp():\n",
    "    con.acquire()\n",
    "    con.wait(0)\n",
    "    with open('temp.txt','r') as file:\n",
    "        data = file.readlines()\n",
    "        max = float(data[0].strip('\\n'))\n",
    "        for temp in data[1:]:\n",
    "            temp = float(temp.strip('\\n'))\n",
    "            if temp > max:\n",
    "                max = temp\n",
    "    print(f\"maximum temp is {max}\")\n",
    "    con.release()\n",
    "\n",
    "def avg_temp():\n",
    "    con.acquire()\n",
    "    con.wait(0)\n",
    "    with open('temp.txt',mode='r') as file:\n",
    "        data = file.readlines()\n",
    "        all_temp = [float(i.strip('\\n'))for i in data]\n",
    "        total = sum(all_temp)\n",
    "        avg = math.floor(total/len(all_temp))\n",
    "    print(f\"avg temp is {avg}\")\n",
    "    con.release()\n",
    "\n",
    "t1 = threading.Thread(target=temperature)\n",
    "t2 = threading.Thread(target=max_temp)\n",
    "t3 = threading.Thread(target=avg_temp)\n",
    "\n",
    "t1.start()\n",
    "t2.start()\n",
    "t3.start()\n"
   ]
  }
 ],
 "metadata": {
  "kernelspec": {
   "display_name": "Python 3",
   "language": "python",
   "name": "python3"
  },
  "language_info": {
   "codemirror_mode": {
    "name": "ipython",
    "version": 3
   },
   "file_extension": ".py",
   "mimetype": "text/x-python",
   "name": "python",
   "nbconvert_exporter": "python",
   "pygments_lexer": "ipython3",
   "version": "3.11.2"
  },
  "orig_nbformat": 4
 },
 "nbformat": 4,
 "nbformat_minor": 2
}
