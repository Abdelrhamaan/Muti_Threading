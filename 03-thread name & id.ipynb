{
 "cells": [
  {
   "cell_type": "code",
   "execution_count": 17,
   "metadata": {},
   "outputs": [],
   "source": [
    "from threading import Thread, current_thread, active_count,enumerate"
   ]
  },
  {
   "cell_type": "code",
   "execution_count": 13,
   "metadata": {},
   "outputs": [
    {
     "name": "stdout",
     "output_type": "stream",
     "text": [
      "thread_display\n",
      "thread show\n",
      "welcome\n",
      "welcome\n",
      "hello\n",
      "hello\n",
      "139957205198400\n",
      "13930\n",
      "13034\n"
     ]
    }
   ],
   "source": [
    "def display():\n",
    "    for _ in range(2):\n",
    "        print(\"welcome\")\n",
    "        \n",
    "def show():\n",
    "    for _ in range(2):\n",
    "        print(\"hello\")\n",
    "\n",
    "t1 = Thread(target=display,name=\"thread_display\") \n",
    "t2 = Thread(target=show,name=\"thread show\")   \n",
    "# t1.name = \"aboody\"    \n",
    "print(t1.name)\n",
    "print(t2.name)\n",
    "t1.start()\n",
    "t2.start()\n",
    "print(t1.ident)\n",
    "print(t1.native_id)\n",
    "print(os.getpid())\n",
    "# print(current_thread())\n"
   ]
  },
  {
   "cell_type": "markdown",
   "metadata": {},
   "source": [
    "In the context of threading in Python, the terms \"ident\" and \"native_id\" refer to different identifiers associated with a thread.\n",
    "\n",
    "1. Thread ident: The `ident` attribute of a `Thread` object represents the identifier assigned to the thread by the Python interpreter. It is an integer value that uniquely identifies the thread within the Python process. The `ident` attribute is useful for identifying and distinguishing between different threads when working with thread-related operations in Python.\n",
    "\n",
    "1. Native thread ID (native_id): The `native_id` attribute refers to the identifier assigned to the thread by the underlying operating system or threading library. It represents the native thread ID specific to the environment in which Python is running. The `native_id` is typically an implementation detail and may vary depending on the operating system or threading library in use.\n",
    "\n",
    "The `ident` attribute is specific to Python's `Thread` class and provides a Python-level identifier for the thread. On the other hand, the `native_id` attribute provides a lower-level identifier that is tied to the underlying system or library used for threading.\n",
    "\n",
    "In most cases, you would primarily work with the `ident` attribute when dealing with threads in Python. The `native_id` attribute is less commonly used unless you need to interact with the underlying system or library-specific features related to threads."
   ]
  },
  {
   "cell_type": "code",
   "execution_count": 18,
   "metadata": {},
   "outputs": [
    {
     "name": "stdout",
     "output_type": "stream",
     "text": [
      "7\n",
      "[<_MainThread(MainThread, started 139957760737280)>, <Thread(IOPub, started daemon 139957616244288)>, <Heartbeat(Heartbeat, started daemon 139957607851584)>, <Thread(Thread-2 (_watch_pipe_fd), started daemon 139957582673472)>, <Thread(Thread-3 (_watch_pipe_fd), started daemon 139957574280768)>, <ControlThread(Control, started daemon 139957565888064)>, <HistorySavingThread(IPythonHistorySavingThread, started 139957213591104)>]\n"
     ]
    }
   ],
   "source": [
    "print(active_count())\n",
    "print(enumerate())"
   ]
  }
 ],
 "metadata": {
  "kernelspec": {
   "display_name": "Python 3",
   "language": "python",
   "name": "python3"
  },
  "language_info": {
   "codemirror_mode": {
    "name": "ipython",
    "version": 3
   },
   "file_extension": ".py",
   "mimetype": "text/x-python",
   "name": "python",
   "nbconvert_exporter": "python",
   "pygments_lexer": "ipython3",
   "version": "3.11.4"
  },
  "orig_nbformat": 4
 },
 "nbformat": 4,
 "nbformat_minor": 2
}
