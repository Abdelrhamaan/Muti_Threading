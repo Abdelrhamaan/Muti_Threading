{
 "cells": [
  {
   "cell_type": "markdown",
   "metadata": {},
   "source": [
    "- allow number of threads to enter ten lock and when thread release another one required"
   ]
  },
  {
   "cell_type": "code",
   "execution_count": 1,
   "metadata": {},
   "outputs": [
    {
     "name": "stdout",
     "output_type": "stream",
     "text": [
      "Displaying thread-1\n",
      "Displaying thread-2\n",
      "Displaying thread-3\n"
     ]
    },
    {
     "name": "stdout",
     "output_type": "stream",
     "text": [
      "Displaying thread-1\n",
      "Displaying thread-2\n",
      "Displaying thread-3\n",
      "Displaying thread-1\n",
      "Displaying thread-2\n",
      "Displaying thread-3\n",
      "Displaying thread-1\n",
      "Displaying thread-2\n",
      "Displaying thread-3\n",
      "Displaying thread-4\n",
      "Displaying thread-5\n",
      "Displaying thread-4\n",
      "Displaying thread-5\n",
      "Displaying thread-4\n",
      "Displaying thread-5\n",
      "Displaying thread-4\n",
      "Displaying thread-5\n"
     ]
    }
   ],
   "source": [
    "import threading\n",
    "import time\n",
    "\n",
    "sem = threading.Semaphore(3)\n",
    "\n",
    "def display (name):\n",
    "    # acquire ----> decrement count\n",
    "    sem.acquire()\n",
    "    for _ in range(4):\n",
    "        print(\"Displaying\", name )\n",
    "        time.sleep(0.5)\n",
    "    # release -----> increment count\n",
    "    sem.release()\n",
    "    \n",
    "    \n",
    "t1 = threading.Thread(target=display,args=(\"thread-1\",))\n",
    "t2 = threading.Thread(target=display,args=(\"thread-2\",))\n",
    "t3 = threading.Thread(target=display,args=(\"thread-3\",))\n",
    "t4 = threading.Thread(target=display,args=(\"thread-4\",))\n",
    "t5 = threading.Thread(target=display,args=(\"thread-5\",))\n",
    "\n",
    "t1.start()\n",
    "t2.start()\n",
    "t3.start()\n",
    "t4.start()\n",
    "t5.start()"
   ]
  },
  {
   "cell_type": "code",
   "execution_count": 5,
   "metadata": {},
   "outputs": [
    {
     "name": "stdout",
     "output_type": "stream",
     "text": [
      "Displaying thread-1\n",
      "Displaying thread-2\n",
      "Displaying thread-3\n"
     ]
    },
    {
     "name": "stdout",
     "output_type": "stream",
     "text": [
      "Displaying thread-1\n",
      "Displaying thread-2\n",
      "Displaying thread-3\n",
      "DisplayingDisplaying thread-2\n",
      " thread-1\n",
      "Displaying thread-3\n",
      "DisplayingDisplaying thread-2\n",
      " thread-1\n",
      "Displaying thread-3\n",
      "DisplayingDisplaying thread-5\n",
      "Displaying thread-6\n",
      "Displaying thread-7\n",
      " thread-4\n",
      "Displaying thread-8\n",
      "DisplayingDisplaying thread-6\n",
      "Displaying thread-7\n",
      "Displaying thread-4\n",
      " thread-5\n",
      "Displaying thread-8\n",
      "Displaying thread-6\n",
      "Displaying thread-7\n",
      "Displaying thread-4\n",
      "Displaying thread-8\n",
      "Displaying thread-5\n",
      "DisplayingDisplaying thread-7\n",
      "Displaying thread-4\n",
      "Displaying thread-8\n",
      " thread-6\n",
      "Displaying thread-5\n"
     ]
    }
   ],
   "source": [
    "\n",
    "\n",
    "sem = threading.Semaphore(3)\n",
    "\n",
    "def display (name):\n",
    "    # acquire ----> decrement count\n",
    "    sem.acquire()\n",
    "    for _ in range(4):\n",
    "        print(\"Displaying\", name )\n",
    "        time.sleep(0.5)\n",
    "    # release -----> increment count\n",
    "    sem.release()\n",
    "    sem.release() # added line\n",
    "    \n",
    "    \n",
    "t1 = threading.Thread(target=display,args=(\"thread-1\",))\n",
    "t2 = threading.Thread(target=display,args=(\"thread-2\",))\n",
    "t3 = threading.Thread(target=display,args=(\"thread-3\",))\n",
    "t4 = threading.Thread(target=display,args=(\"thread-4\",))\n",
    "t5 = threading.Thread(target=display,args=(\"thread-5\",))\n",
    "t6 = threading.Thread(target=display,args=(\"thread-6\",))\n",
    "t7 = threading.Thread(target=display,args=(\"thread-7\",))\n",
    "t8 = threading.Thread(target=display,args=(\"thread-8\",))\n",
    "\n",
    "t1.start()\n",
    "t2.start()\n",
    "t3.start()\n",
    "t4.start()\n",
    "t5.start()\n",
    "t6.start()\n",
    "t7.start()\n",
    "t8.start()"
   ]
  },
  {
   "cell_type": "code",
   "execution_count": 6,
   "metadata": {},
   "outputs": [
    {
     "name": "stdout",
     "output_type": "stream",
     "text": [
      "Displaying thread-1\n",
      "Displaying thread-2\n",
      "Displaying thread-3\n"
     ]
    },
    {
     "name": "stdout",
     "output_type": "stream",
     "text": [
      "DisplayingDisplaying thread-2\n",
      " thread-1\n",
      "Displaying thread-3\n",
      "Displaying thread-2\n",
      "Displaying thread-3\n",
      "Displaying thread-1\n",
      "Displaying thread-2\n",
      "Displaying thread-1\n",
      "Displaying thread-3\n"
     ]
    },
    {
     "name": "stderr",
     "output_type": "stream",
     "text": [
      "Exception in thread Exception in thread Thread-40 (display):\n",
      "Traceback (most recent call last):\n",
      "  File \"/usr/lib/python3.11/threading.py\", line 1038, in _bootstrap_inner\n",
      "Thread-38 (display):\n",
      "Traceback (most recent call last):\n",
      "  File \"/usr/lib/python3.11/threading.py\", line 1038, in _bootstrap_inner\n",
      "    self.run()\n",
      "  File \"/usr/lib/python3.11/threading.py\", line 975, in run\n",
      "    self.run()\n",
      "  File \"/usr/lib/python3.11/threading.py\", line 975, in run\n",
      "    self._target(*self._args, **self._kwargs)\n",
      "  File \"/tmp/ipykernel_27026/1593625234.py\", line 11, in display\n",
      "    self._target(*self._args, **self._kwargs)\n",
      "  File \"/tmp/ipykernel_27026/1593625234.py\", line 11, in display\n",
      "  File \"/usr/lib/python3.11/threading.py\", line 538, in release\n",
      "  File \"/usr/lib/python3.11/threading.py\", line 538, in release\n",
      "    raise ValueError(\"Semaphore released too many times\")\n",
      "ValueError: Semaphore released too many times\n",
      "    raise ValueError(\"Semaphore released too many times\")\n",
      "ValueError: Semaphore released too many times\n"
     ]
    },
    {
     "name": "stdout",
     "output_type": "stream",
     "text": [
      "Displaying thread-6\n",
      "Displaying thread-7\n",
      "Displaying thread-5\n",
      "Displaying thread-4\n",
      "Displaying thread-6\n",
      "Displaying thread-7\n",
      "Displaying thread-4\n",
      "Displaying thread-5\n",
      "Displaying thread-6\n",
      "Displaying thread-7\n",
      "Displaying thread-4\n",
      "Displaying thread-5\n",
      "Displaying thread-6\n",
      "Displaying thread-7\n",
      "Displaying thread-4\n",
      "Displaying thread-5\n"
     ]
    },
    {
     "name": "stderr",
     "output_type": "stream",
     "text": [
      "Exception in thread Thread-42 (display):\n",
      "Traceback (most recent call last):\n",
      "  File \"/usr/lib/python3.11/threading.py\", line 1038, in _bootstrap_inner\n",
      "Exception in thread Thread-44 (display):\n",
      "Traceback (most recent call last):\n",
      "  File \"/usr/lib/python3.11/threading.py\", line 1038, in _bootstrap_inner\n",
      "    self.run()\n",
      "  File \"/usr/lib/python3.11/threading.py\", line 975, in run\n",
      "    self._target(*self._args, **self._kwargs)\n",
      "  File \"/tmp/ipykernel_27026/1593625234.py\", line 10, in display\n",
      "    self.run()\n",
      "  File \"/usr/lib/python3.11/threading.py\", line 975, in run\n",
      "    self._target(*self._args, **self._kwargs)\n",
      "  File \"/tmp/ipykernel_27026/1593625234.py\", line 10, in display\n",
      "  File \"/usr/lib/python3.11/threading.py\", line 538, in release\n",
      "    raise ValueError(\"Semaphore released too many times\")\n",
      "ValueError: Semaphore released too many times\n",
      "  File \"/usr/lib/python3.11/threading.py\", line 538, in release\n",
      "    raise ValueError(\"Semaphore released too many times\")\n",
      "ValueError: Semaphore released too many times\n"
     ]
    },
    {
     "name": "stdout",
     "output_type": "stream",
     "text": [
      "Displaying thread-8\n",
      "Displaying thread-8\n",
      "Displaying thread-8\n",
      "Displaying thread-8\n"
     ]
    },
    {
     "name": "stderr",
     "output_type": "stream",
     "text": [
      "Exception in thread Thread-45 (display):\n",
      "Traceback (most recent call last):\n",
      "  File \"/usr/lib/python3.11/threading.py\", line 1038, in _bootstrap_inner\n",
      "    self.run()\n",
      "  File \"/usr/lib/python3.11/threading.py\", line 975, in run\n",
      "    self._target(*self._args, **self._kwargs)\n",
      "  File \"/tmp/ipykernel_27026/1593625234.py\", line 10, in display\n",
      "  File \"/usr/lib/python3.11/threading.py\", line 538, in release\n",
      "    raise ValueError(\"Semaphore released too many times\")\n",
      "ValueError: Semaphore released too many times\n"
     ]
    }
   ],
   "source": [
    "\n",
    "\n",
    "sem = threading.BoundedSemaphore(3) # to manage count of release will raise an error\n",
    "\n",
    "def display (name):\n",
    "    # acquire ----> decrement count\n",
    "    sem.acquire()\n",
    "    for _ in range(4):\n",
    "        print(\"Displaying\", name )\n",
    "        time.sleep(0.5)\n",
    "    # release -----> increment count\n",
    "    sem.release()\n",
    "    sem.release() # added line\n",
    "    \n",
    "    \n",
    "t1 = threading.Thread(target=display,args=(\"thread-1\",))\n",
    "t2 = threading.Thread(target=display,args=(\"thread-2\",))\n",
    "t3 = threading.Thread(target=display,args=(\"thread-3\",))\n",
    "t4 = threading.Thread(target=display,args=(\"thread-4\",))\n",
    "t5 = threading.Thread(target=display,args=(\"thread-5\",))\n",
    "t6 = threading.Thread(target=display,args=(\"thread-6\",))\n",
    "t7 = threading.Thread(target=display,args=(\"thread-7\",))\n",
    "t8 = threading.Thread(target=display,args=(\"thread-8\",))\n",
    "\n",
    "t1.start()\n",
    "t2.start()\n",
    "t3.start()\n",
    "t4.start()\n",
    "t5.start()\n",
    "t6.start()\n",
    "t7.start()\n",
    "t8.start()"
   ]
  },
  {
   "cell_type": "code",
   "execution_count": 7,
   "metadata": {},
   "outputs": [
    {
     "name": "stdout",
     "output_type": "stream",
     "text": [
      "Displaying thread-1\n",
      "Displaying thread-2\n",
      "Displaying thread-3\n"
     ]
    },
    {
     "name": "stdout",
     "output_type": "stream",
     "text": [
      "Displaying thread-1\n",
      "Displaying thread-2\n",
      "Displaying thread-3\n",
      "Displaying thread-1\n",
      "Displaying thread-2\n",
      "Displaying thread-3\n",
      "Displaying thread-1\n",
      "Displaying thread-2\n",
      "Displaying thread-3\n",
      "Displaying thread-4\n",
      "Displaying thread-5\n",
      "Displaying thread-6\n",
      "Displaying thread-4\n",
      "Displaying thread-5\n",
      "Displaying thread-6\n",
      "Displaying thread-4\n",
      "Displaying thread-6\n",
      "Displaying thread-5\n",
      "Displaying thread-4\n",
      "Displaying thread-6\n",
      "Displaying thread-5\n",
      "Displaying thread-7\n",
      "Displaying thread-8\n",
      "DisplayingDisplaying thread-8\n",
      " thread-7\n",
      "DisplayingDisplaying thread-7\n",
      " thread-8\n",
      "Displaying thread-7\n",
      "Displaying thread-8\n"
     ]
    }
   ],
   "source": [
    "\n",
    "\n",
    "sem = threading.BoundedSemaphore(3) # to manage count of release will raise an error\n",
    "\n",
    "def display (name):\n",
    "    # acquire ----> decrement count\n",
    "    sem.acquire()\n",
    "    for _ in range(4):\n",
    "        print(\"Displaying\", name )\n",
    "        time.sleep(0.5)\n",
    "    # release -----> increment count\n",
    "    sem.release()\n",
    "    # sem.release() # added line\n",
    "    \n",
    "    \n",
    "t1 = threading.Thread(target=display,args=(\"thread-1\",))\n",
    "t2 = threading.Thread(target=display,args=(\"thread-2\",))\n",
    "t3 = threading.Thread(target=display,args=(\"thread-3\",))\n",
    "t4 = threading.Thread(target=display,args=(\"thread-4\",))\n",
    "t5 = threading.Thread(target=display,args=(\"thread-5\",))\n",
    "t6 = threading.Thread(target=display,args=(\"thread-6\",))\n",
    "t7 = threading.Thread(target=display,args=(\"thread-7\",))\n",
    "t8 = threading.Thread(target=display,args=(\"thread-8\",))\n",
    "\n",
    "t1.start()\n",
    "t2.start()\n",
    "t3.start()\n",
    "t4.start()\n",
    "t5.start()\n",
    "t6.start()\n",
    "t7.start()\n",
    "t8.start()"
   ]
  }
 ],
 "metadata": {
  "kernelspec": {
   "display_name": "Python 3",
   "language": "python",
   "name": "python3"
  },
  "language_info": {
   "codemirror_mode": {
    "name": "ipython",
    "version": 3
   },
   "file_extension": ".py",
   "mimetype": "text/x-python",
   "name": "python",
   "nbconvert_exporter": "python",
   "pygments_lexer": "ipython3",
   "version": "3.11.4"
  },
  "orig_nbformat": 4
 },
 "nbformat": 4,
 "nbformat_minor": 2
}
