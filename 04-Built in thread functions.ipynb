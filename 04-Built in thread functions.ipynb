{
 "cells": [
  {
   "cell_type": "code",
   "execution_count": 4,
   "metadata": {},
   "outputs": [],
   "source": [
    "import threading\n",
    "import time"
   ]
  },
  {
   "attachments": {},
   "cell_type": "markdown",
   "metadata": {},
   "source": [
    "- is_alive()\n",
    "- main_thread()\n",
    "- active_count()\n",
    "- enumerate()\n",
    "- get_native_id()\n",
    "- join()"
   ]
  },
  {
   "cell_type": "code",
   "execution_count": 19,
   "metadata": {},
   "outputs": [
    {
     "name": "stdout",
     "output_type": "stream",
     "text": [
      "before : False\n",
      "welcome\n",
      "welcome\n",
      "after : False\n"
     ]
    }
   ],
   "source": [
    "def display():\n",
    "    for _ in range(2):\n",
    "        print(\"welcome\")\n",
    "        \n",
    "def show():\n",
    "    for _ in range(2):\n",
    "        print(\"hello\")\n",
    "        \n",
    "t1 = threading.Thread(target=display)\n",
    "print(\"before :\", t1.is_alive())\n",
    "t1.start()\n",
    "print(\"after :\", t1.is_alive()) # here should be True \n"
   ]
  },
  {
   "cell_type": "code",
   "execution_count": 30,
   "metadata": {},
   "outputs": [
    {
     "name": "stdout",
     "output_type": "stream",
     "text": [
      "before : False\n",
      "Main thread details : <_MainThread(MainThread, started 139826856652800)>\n",
      "welcome\n",
      "welcome\n",
      "after : False\n"
     ]
    }
   ],
   "source": [
    "def display():\n",
    "    print(\"Main thread details :\",threading.main_thread())\n",
    "    for _ in range(2):\n",
    "        print(\"welcome\")\n",
    "        \n",
    "def show():\n",
    "    for _ in range(2):\n",
    "        print(\"hello\")\n",
    "        \n",
    "t1 = threading.Thread(target=display)\n",
    "print(\"before :\", t1.is_alive())\n",
    "t1.start()\n",
    "# here should be True or False in order to thread finished or no\n",
    "print(\"after :\", t1.is_alive()) \n"
   ]
  },
  {
   "cell_type": "code",
   "execution_count": 33,
   "metadata": {},
   "outputs": [
    {
     "name": "stdout",
     "output_type": "stream",
     "text": [
      "before : False\n",
      "Main thread details : <_MainThread(MainThread, started 139826856652800)>\n",
      "welcome\n",
      "welcome\n",
      "Num of running threads : 7\n",
      "List of running threads : [<_MainThread(MainThread, started 139826856652800)>, <Thread(IOPub, started daemon 139826785642048)>, <Heartbeat(Heartbeat, started daemon 139826777249344)>, <Thread(Thread-2 (_watch_pipe_fd), started daemon 139826544240192)>, <Thread(Thread-3 (_watch_pipe_fd), started daemon 139826535847488)>, <ControlThread(Control, started daemon 139826527454784)>, <HistorySavingThread(IPythonHistorySavingThread, started 139826519062080)>]\n",
      "Native id thread : 14517\n",
      "after : False\n"
     ]
    }
   ],
   "source": [
    "def display():\n",
    "    print(\"Main thread details :\",threading.main_thread())\n",
    "    for _ in range(2):\n",
    "        print(\"welcome\")\n",
    "        \n",
    "def show():\n",
    "    for _ in range(2):\n",
    "        print(\"hello\")\n",
    "        \n",
    "t1 = threading.Thread(target=display)\n",
    "print(\"before :\", t1.is_alive())\n",
    "t1.start()\n",
    "print(\"Num of running threads :\", threading.active_count())\n",
    "print(\"List of running threads :\", threading.enumerate())\n",
    "print(\"Native id thread :\", threading.get_native_id())\n",
    "print(\"after :\", t1.is_alive())"
   ]
  },
  {
   "cell_type": "code",
   "execution_count": 31,
   "metadata": {},
   "outputs": [
    {
     "name": "stdout",
     "output_type": "stream",
     "text": [
      "video uploaded started\n",
      "send notification\n",
      "hello\n",
      "hello\n",
      "hello\n",
      "hello\n"
     ]
    },
    {
     "name": "stdout",
     "output_type": "stream",
     "text": [
      "video uploaded finished\n"
     ]
    }
   ],
   "source": [
    "def uploaded():\n",
    "    print(\"video uploaded started\")\n",
    "    time.sleep(2)\n",
    "    print(\"video uploaded finished\")\n",
    "    \n",
    "def send_notif():\n",
    "    print('send notification')\n",
    "\n",
    "t1 = threading.Thread(target=uploaded)\n",
    "t2 = threading.Thread(target=send_notif)\n",
    "\n",
    "t1.start()\n",
    "t2.start()\n",
    "\n",
    "for _ in range(4):\n",
    "    print(\"hello\")\n",
    "    \n",
    "# we dont want that happens so we will use join"
   ]
  },
  {
   "cell_type": "code",
   "execution_count": 32,
   "metadata": {},
   "outputs": [
    {
     "name": "stdout",
     "output_type": "stream",
     "text": [
      "video uploaded started\n",
      "send notification\n",
      "video uploaded finished\n",
      "hello\n",
      "hello\n",
      "hello\n",
      "hello\n"
     ]
    }
   ],
   "source": [
    "def uploaded():\n",
    "    print(\"video uploaded started\")\n",
    "    time.sleep(2)\n",
    "    print(\"video uploaded finished\")\n",
    "    \n",
    "def send_notif():\n",
    "    print('send notification')\n",
    "\n",
    "t1 = threading.Thread(target=uploaded)\n",
    "t2 = threading.Thread(target=send_notif)\n",
    "\n",
    "t1.start()\n",
    "t2.start()\n",
    "\n",
    "t1.join()\n",
    "\n",
    "for _ in range(4):\n",
    "    print(\"hello\")\n",
    "    \n",
    "# we dont want that happens so we will use join"
   ]
  },
  {
   "cell_type": "code",
   "execution_count": 45,
   "metadata": {},
   "outputs": [
    {
     "name": "stdout",
     "output_type": "stream",
     "text": [
      "displayshow\n",
      "show\n",
      "\n",
      "display\n",
      "hello\n",
      "hello\n",
      "hello\n",
      "hello\n"
     ]
    }
   ],
   "source": [
    "def display():\n",
    "    for _ in range(2):\n",
    "        print(\"display\")\n",
    "        \n",
    "def show():\n",
    "    for _ in range(2):\n",
    "        print(\"show\")\n",
    "        \n",
    "        \n",
    "t1 = threading.Thread(target=display)\n",
    "t2 = threading.Thread(target=show)\n",
    "\n",
    "t1.start()\n",
    "t2.start()\n",
    "\n",
    "# t1.join()\n",
    "\n",
    "for _ in range(4):\n",
    "    print(\"hello\")\n",
    "    \n",
    "\n",
    "# every time arrange get differnet so use join"
   ]
  },
  {
   "cell_type": "code",
   "execution_count": 52,
   "metadata": {},
   "outputs": [
    {
     "name": "stdout",
     "output_type": "stream",
     "text": [
      "display\n",
      "display\n",
      "hello\n",
      "hello\n",
      "hello\n",
      "hello\n",
      "show\n",
      "show\n"
     ]
    }
   ],
   "source": [
    "def display():\n",
    "    for _ in range(2):\n",
    "        print(\"display\")\n",
    "        \n",
    "def show():\n",
    "    for _ in range(2):\n",
    "        print(\"show\")\n",
    "        \n",
    "        \n",
    "t1 = threading.Thread(target=display)\n",
    "t2 = threading.Thread(target=show)\n",
    "\n",
    "t1.start()\n",
    "t2.start()\n",
    "\n",
    "# t1.join()\n",
    "# t2.join()\n",
    "\n",
    "for _ in range(4):\n",
    "    print(\"hello\")"
   ]
  },
  {
   "cell_type": "code",
   "execution_count": null,
   "metadata": {},
   "outputs": [],
   "source": [
    "\"\"\"\n",
    "In Python's threading module, there are two methods to execute a thread: start() and run().\n",
    "\n",
    "start(): The start() method is used to start a new thread and run its target function in parallel with the main thread. When start() is called, it initializes the thread, assigns it a new system-level thread, and invokes the thread's run() method in that separate thread. The start() method returns immediately, and the newly created thread starts executing independently.\n",
    "\n",
    "run(): The run() method is the entry point for the thread's execution. It defines the behavior of the thread and contains the code that will be executed when the thread is started. However, when you call the run() method directly, it executes the target function in the context of the current thread, without creating a new thread. In other words, it runs the thread's code in the same thread from which it was called.\n",
    "\n",
    "To illustrate the difference, consider the following example:\n",
    "\n",
    "python\n",
    "Copy\n",
    "import threading\n",
    "\n",
    "# Thread class\n",
    "class MyThread(threading.Thread):\n",
    "    def run(self):\n",
    "        print(\"Thread started\")\n",
    "\n",
    "# Create an instance of MyThread\n",
    "my_thread = MyThread()\n",
    "\n",
    "# Calling start() method\n",
    "my_thread.start()\n",
    "\n",
    "# Calling run() method\n",
    "my_thread.run()\n",
    "In this example, my_thread.start() starts a new thread that executes the run() method of MyThread in parallel with the main thread. The output will be:\n",
    "\n",
    "Copy\n",
    "Thread started\n",
    "On the other hand, my_thread.run() directly executes the run() method of MyThread in the context of the main thread. The output will be:\n",
    "\n",
    "Copy\n",
    "Thread started\n",
    "Although the output is the same in this simple example, it's important to understand that calling run() directly does not create a new thread. It simply executes the target function in the current thread, blocking the main thread until the run() method completes. In contrast, calling start() creates a new thread, allowing concurrent execution of multiple threads.\n",
    "\n",
    "In general, you should use the start() method to launch threads in order to achieve parallelism and take advantage of the benefits of multithreading. Calling run() directly might be useful in certain scenarios where you want to execute the thread's code synchronously within the current thread, but it does not provide the advantages of true concurrency.\n",
    "\"\"\""
   ]
  }
 ],
 "metadata": {
  "kernelspec": {
   "display_name": "Python 3",
   "language": "python",
   "name": "python3"
  },
  "language_info": {
   "codemirror_mode": {
    "name": "ipython",
    "version": 3
   },
   "file_extension": ".py",
   "mimetype": "text/x-python",
   "name": "python",
   "nbconvert_exporter": "python",
   "pygments_lexer": "ipython3",
   "version": "3.11.4"
  },
  "orig_nbformat": 4
 },
 "nbformat": 4,
 "nbformat_minor": 2
}
