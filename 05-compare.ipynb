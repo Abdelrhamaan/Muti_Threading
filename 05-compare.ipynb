{
 "cells": [
  {
   "cell_type": "code",
   "execution_count": 1,
   "metadata": {},
   "outputs": [],
   "source": [
    "import threading\n",
    "import time"
   ]
  },
  {
   "cell_type": "code",
   "execution_count": 2,
   "metadata": {},
   "outputs": [
    {
     "name": "stdout",
     "output_type": "stream",
     "text": [
      "Finding square...\n",
      "Square of 3 is : 9\n",
      "Finding Cube...\n",
      "Cube of 3 is : 27\n",
      "excution time is  2.001107931137085\n"
     ]
    }
   ],
   "source": [
    "def square(num):\n",
    "    print(\"Finding square...\")\n",
    "    time.sleep(1)\n",
    "    print(f\"Square of {num} is : {num**2}\")\n",
    "    \n",
    "def cube(num):\n",
    "    print(\"Finding Cube...\")\n",
    "    time.sleep(1)\n",
    "    print(f\"Cube of {num} is : {num**3}\")\n",
    "    \n",
    "start_time = time.time()\n",
    "square(3)\n",
    "cube(3)\n",
    "print(\"excution time is \",time.time()-start_time)"
   ]
  },
  {
   "cell_type": "code",
   "execution_count": 3,
   "metadata": {},
   "outputs": [
    {
     "name": "stdout",
     "output_type": "stream",
     "text": [
      "Finding square...\n",
      "Finding Cube...\n",
      "Square of 3 is : 9\n",
      "Cube of 3 is : 27\n",
      "excution time is  1.0025088787078857\n"
     ]
    }
   ],
   "source": [
    "def square(num):\n",
    "    print(\"Finding square...\")\n",
    "    time.sleep(1)\n",
    "    print(f\"Square of {num} is : {num**2}\")\n",
    "    \n",
    "def cube(num):\n",
    "    print(\"Finding Cube...\")\n",
    "    time.sleep(1)\n",
    "    print(f\"Cube of {num} is : {num**3}\")\n",
    "    \n",
    "start_time = time.time()\n",
    "t1 = threading.Thread(target=square,args=(3,))\n",
    "t2 = threading.Thread(target=cube,args=(3,))\n",
    "t1.start()\n",
    "t2.start()\n",
    "t1.join()\n",
    "t2.join()\n",
    "print(\"excution time is \",time.time()-start_time)"
   ]
  }
 ],
 "metadata": {
  "kernelspec": {
   "display_name": "Python 3",
   "language": "python",
   "name": "python3"
  },
  "language_info": {
   "codemirror_mode": {
    "name": "ipython",
    "version": 3
   },
   "file_extension": ".py",
   "mimetype": "text/x-python",
   "name": "python",
   "nbconvert_exporter": "python",
   "pygments_lexer": "ipython3",
   "version": "3.11.4"
  },
  "orig_nbformat": 4
 },
 "nbformat": 4,
 "nbformat_minor": 2
}
