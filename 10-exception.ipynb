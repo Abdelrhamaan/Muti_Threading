{
 "cells": [
  {
   "cell_type": "code",
   "execution_count": 1,
   "metadata": {},
   "outputs": [
    {
     "name": "stderr",
     "output_type": "stream",
     "text": [
      "Exception in thread Thread-4 (display):\n",
      "Traceback (most recent call last):\n",
      "  File \"/usr/lib/python3.11/threading.py\", line 1038, in _bootstrap_inner\n",
      "    self.run()\n",
      "  File \"/usr/lib/python3.11/threading.py\", line 975, in run\n",
      "    self._target(*self._args, **self._kwargs)\n",
      "  File \"/tmp/ipykernel_27467/20599765.py\", line 5, in display\n",
      "TypeError: can only concatenate str (not \"int\") to str\n"
     ]
    },
    {
     "name": "stdout",
     "output_type": "stream",
     "text": [
      "hello\n",
      "hello\n",
      "hi\n",
      "hi\n"
     ]
    }
   ],
   "source": [
    "import threading\n",
    "# he will raise an error then continue\n",
    "def display():\n",
    "    for _ in range(2):\n",
    "        print(\"welcome\"+5)\n",
    "        \n",
    "def show():\n",
    "    for _ in range(2):\n",
    "        print(\"hello\")\n",
    "        \n",
    "t1 = threading.Thread(target=display)\n",
    "t2 = threading.Thread(target=show)\n",
    "\n",
    "t1.start()\n",
    "t1.join()\n",
    "t2.start()\n",
    "t2.join()\n",
    "\n",
    "for _ in range (2):\n",
    "    print(\"hi\")"
   ]
  },
  {
   "cell_type": "markdown",
   "metadata": {},
   "source": [
    "- main thread ------ sys.excepthook\n",
    "- created thread ------ threading.excepthook\n",
    "- excepthook ------- (exc.class, exc.value, trace obj., thread name)"
   ]
  },
  {
   "cell_type": "code",
   "execution_count": 2,
   "metadata": {},
   "outputs": [
    {
     "name": "stdout",
     "output_type": "stream",
     "text": [
      "Exception tuple data\n",
      "<class 'TypeError'>\n",
      "can only concatenate str (not \"int\") to str\n",
      "<traceback object at 0x7fbb694c61c0>\n",
      "<Thread(Thread-6 (display), started 140442393892416)>\n",
      "hello\n",
      "hello\n",
      "hi\n",
      "hi\n"
     ]
    }
   ],
   "source": [
    "import threading\n",
    "\n",
    "def except_data(args):\n",
    "    print(\"Exception tuple data\")\n",
    "    print(args[0])\n",
    "    print(args[1])\n",
    "    print(args[2])\n",
    "    print(args[3])\n",
    "    \n",
    "    \n",
    "def display():\n",
    "    for _ in range(2):\n",
    "        print(\"welcome\"+5)\n",
    "        \n",
    "def show():\n",
    "    for _ in range(2):\n",
    "        print(\"hello\")\n",
    "\n",
    "threading.excepthook = except_data\n",
    "\n",
    "t1 = threading.Thread(target=display)\n",
    "t2 = threading.Thread(target=show)\n",
    "\n",
    "t1.start()\n",
    "t1.join()\n",
    "t2.start()\n",
    "t2.join()\n",
    "\n",
    "for _ in range (2):\n",
    "    print(\"hi\")"
   ]
  }
 ],
 "metadata": {
  "kernelspec": {
   "display_name": "Python 3",
   "language": "python",
   "name": "python3"
  },
  "language_info": {
   "codemirror_mode": {
    "name": "ipython",
    "version": 3
   },
   "file_extension": ".py",
   "mimetype": "text/x-python",
   "name": "python",
   "nbconvert_exporter": "python",
   "pygments_lexer": "ipython3",
   "version": "3.11.4"
  },
  "orig_nbformat": 4
 },
 "nbformat": 4,
 "nbformat_minor": 2
}
